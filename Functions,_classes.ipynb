{
  "nbformat": 4,
  "nbformat_minor": 0,
  "metadata": {
    "colab": {
      "name": "Functions, classes.ipynb",
      "provenance": [],
      "collapsed_sections": [],
      "authorship_tag": "ABX9TyPa81H12UDmlZdHNUw17XVS",
      "include_colab_link": true
    },
    "kernelspec": {
      "name": "python3",
      "display_name": "Python 3"
    },
    "language_info": {
      "name": "python"
    }
  },
  "cells": [
    {
      "cell_type": "markdown",
      "metadata": {
        "id": "view-in-github",
        "colab_type": "text"
      },
      "source": [
        "<a href=\"https://colab.research.google.com/github/obi-tech/Data-Science/blob/main/Functions%2C_classes.ipynb\" target=\"_parent\"><img src=\"https://colab.research.google.com/assets/colab-badge.svg\" alt=\"Open In Colab\"/></a>"
      ]
    },
    {
      "cell_type": "code",
      "source": [
        "def Hello():\n",
        "  print('Hello World!')"
      ],
      "metadata": {
        "id": "RjYSlzE4L2_5"
      },
      "execution_count": null,
      "outputs": []
    },
    {
      "cell_type": "code",
      "source": [
        "#pass single argument to a function\n",
        "def hello(name):\n",
        "    print('Hello', name)\n",
        "hello('Bob')"
      ],
      "metadata": {
        "colab": {
          "base_uri": "https://localhost:8080/"
        },
        "id": "JitFXxuYNRSR",
        "outputId": "4d05b1a1-e3bf-4f94-a6f0-b236989c8252"
      },
      "execution_count": null,
      "outputs": [
        {
          "output_type": "stream",
          "name": "stdout",
          "text": [
            "Hello Bob\n"
          ]
        }
      ]
    },
    {
      "cell_type": "code",
      "source": [
        "hello('Martha')"
      ],
      "metadata": {
        "colab": {
          "base_uri": "https://localhost:8080/"
        },
        "id": "hZCgZwdwOG9D",
        "outputId": "6e8c5e4a-6ccf-440a-cf8a-3f8ae881a19f"
      },
      "execution_count": null,
      "outputs": [
        {
          "output_type": "stream",
          "name": "stdout",
          "text": [
            "Hello Martha\n"
          ]
        }
      ]
    },
    {
      "cell_type": "code",
      "source": [
        "#pass 2 arguments\n",
        "def func(name, job):\n",
        "    print(name, 'is a', job)\n",
        "func('Uju', 'scientist')"
      ],
      "metadata": {
        "colab": {
          "base_uri": "https://localhost:8080/"
        },
        "id": "IrmOTIMQOSLi",
        "outputId": "b170a254-c279-411e-9aee-60d1606e8ace"
      },
      "execution_count": null,
      "outputs": [
        {
          "output_type": "stream",
          "name": "stdout",
          "text": [
            "Uju is a scientist\n"
          ]
        }
      ]
    },
    {
      "cell_type": "code",
      "source": [
        ""
      ],
      "metadata": {
        "id": "q0MMWADHFaah"
      },
      "execution_count": null,
      "outputs": []
    },
    {
      "cell_type": "markdown",
      "source": [
        "Types of arguments"
      ],
      "metadata": {
        "id": "WrvV8bPfVnIy"
      }
    },
    {
      "cell_type": "markdown",
      "source": [
        "1. Positional arguments"
      ],
      "metadata": {
        "id": "BteHYgBaVwN4"
      }
    },
    {
      "cell_type": "code",
      "source": [
        "def cap(capital, state):\n",
        "    print(capital, 'is the capital of', state)\n",
        "cap ('Owerri', 'Imo')"
      ],
      "metadata": {
        "colab": {
          "base_uri": "https://localhost:8080/"
        },
        "id": "H6ts2TPMV1jT",
        "outputId": "68037aa7-e152-415a-cd64-b7c2d5cb55ce"
      },
      "execution_count": null,
      "outputs": [
        {
          "output_type": "stream",
          "name": "stdout",
          "text": [
            "Owerri is the capital of Imo\n"
          ]
        }
      ]
    },
    {
      "cell_type": "code",
      "source": [
        "cap('Ikeja', 'Lagos')"
      ],
      "metadata": {
        "colab": {
          "base_uri": "https://localhost:8080/"
        },
        "id": "2tN-yGKEX78i",
        "outputId": "2d6b095f-5bab-45fc-a483-d5eaf9cc1f9b"
      },
      "execution_count": null,
      "outputs": [
        {
          "output_type": "stream",
          "name": "stdout",
          "text": [
            "Ikeja is the capital of Lagos\n"
          ]
        }
      ]
    },
    {
      "cell_type": "markdown",
      "source": [
        "2. Keyword Arguments"
      ],
      "metadata": {
        "id": "OQJcY2c-YM9j"
      }
    },
    {
      "cell_type": "code",
      "source": [
        "def func(name, age):\n",
        "    print(name, 'is', age, 'years old')\n",
        "func(name='Oluoma', age=4)"
      ],
      "metadata": {
        "colab": {
          "base_uri": "https://localhost:8080/"
        },
        "id": "DIyN9fN6YR8P",
        "outputId": "ff65f7ae-b2d0-45ac-bd28-89e12cbaa98e"
      },
      "execution_count": null,
      "outputs": [
        {
          "output_type": "stream",
          "name": "stdout",
          "text": [
            "Oluoma is 4 years old\n"
          ]
        }
      ]
    },
    {
      "cell_type": "code",
      "source": [
        "func(age=7, name='Bryan')"
      ],
      "metadata": {
        "colab": {
          "base_uri": "https://localhost:8080/"
        },
        "id": "1FdilCIAZ-Rn",
        "outputId": "237d7483-7c8a-480c-ee05-24a2a6b53f03"
      },
      "execution_count": null,
      "outputs": [
        {
          "output_type": "stream",
          "name": "stdout",
          "text": [
            "Bryan is 7 years old\n"
          ]
        }
      ]
    },
    {
      "cell_type": "markdown",
      "source": [
        "3. Default Arguments"
      ],
      "metadata": {
        "id": "JO8i3Ppqaaf-"
      }
    },
    {
      "cell_type": "code",
      "source": [
        "def fav(name, pet='dog'):\n",
        "    print(name,'s favorite pet is', pet)\n",
        "fav('Brenda', pet='cat')"
      ],
      "metadata": {
        "colab": {
          "base_uri": "https://localhost:8080/"
        },
        "id": "7aJfZHLnadJu",
        "outputId": "e57436f6-6e96-4089-d08c-a71025ea9e07"
      },
      "execution_count": null,
      "outputs": [
        {
          "output_type": "stream",
          "name": "stdout",
          "text": [
            "Brenda s favorite pet is cat\n"
          ]
        }
      ]
    },
    {
      "cell_type": "code",
      "source": [
        "fav('Miranda')"
      ],
      "metadata": {
        "colab": {
          "base_uri": "https://localhost:8080/"
        },
        "id": "dxbCMo2PdWew",
        "outputId": "056b2d80-6771-4982-d40c-a8a00332c540"
      },
      "execution_count": null,
      "outputs": [
        {
          "output_type": "stream",
          "name": "stdout",
          "text": [
            "Miranda s favorite pet is dog\n"
          ]
        }
      ]
    },
    {
      "cell_type": "markdown",
      "source": [
        "Variable Length Arguments (*args and **kwargs)"
      ],
      "metadata": {
        "id": "pn3VSICKf5Tw"
      }
    },
    {
      "cell_type": "markdown",
      "source": [
        "4. (*args)"
      ],
      "metadata": {
        "id": "G5ETN58wf7pL"
      }
    },
    {
      "cell_type": "code",
      "source": [
        "def print_arguments(*args):\n",
        "    print (args)\n",
        "print_arguments(1, 34, 60, 8, 98, 12)"
      ],
      "metadata": {
        "colab": {
          "base_uri": "https://localhost:8080/"
        },
        "id": "A8xYszhqgBTT",
        "outputId": "d45732aa-69fc-47dd-e2ed-9500b458f89e"
      },
      "execution_count": null,
      "outputs": [
        {
          "output_type": "stream",
          "name": "stdout",
          "text": [
            "(1, 34, 60, 8, 98, 12)\n"
          ]
        }
      ]
    },
    {
      "cell_type": "markdown",
      "source": [
        "5. (*kwargs)"
      ],
      "metadata": {
        "id": "R-ee3i7lgwG3"
      }
    },
    {
      "cell_type": "code",
      "source": [
        "def print_arguments(**kwargs):\n",
        "    print(kwargs)\n",
        "print_arguments(name='Bob', age=25, job='dev')"
      ],
      "metadata": {
        "colab": {
          "base_uri": "https://localhost:8080/"
        },
        "id": "BrBQkgV-g08y",
        "outputId": "807f5879-f5bb-4beb-ed93-35b7693ba936"
      },
      "execution_count": null,
      "outputs": [
        {
          "output_type": "stream",
          "name": "stdout",
          "text": [
            "{'name': 'Bob', 'age': 25, 'job': 'dev'}\n"
          ]
        }
      ]
    },
    {
      "cell_type": "code",
      "source": [
        "\n",
        "#print a function's docstring\n",
        "help(fav)"
      ],
      "metadata": {
        "colab": {
          "base_uri": "https://localhost:8080/"
        },
        "id": "IzyjkxOIiOcS",
        "outputId": "bd9e2d8a-28ae-4f2d-9fec-a177bdcbf345"
      },
      "execution_count": null,
      "outputs": [
        {
          "output_type": "stream",
          "name": "stdout",
          "text": [
            "Help on function fav in module __main__:\n",
            "\n",
            "fav(name, pet='dog')\n",
            "\n"
          ]
        }
      ]
    },
    {
      "cell_type": "markdown",
      "source": [
        "Classes"
      ],
      "metadata": {
        "id": "c-9IiANqkTh-"
      }
    },
    {
      "cell_type": "code",
      "source": [
        "#create a class\n",
        "class Car:\n",
        "  pass"
      ],
      "metadata": {
        "id": "OT8kxXv1kU5y"
      },
      "execution_count": null,
      "outputs": []
    },
    {
      "cell_type": "code",
      "source": [
        "#__init__() method\n",
        "class Car:\n",
        "  def __init__(self):\n",
        "    pass"
      ],
      "metadata": {
        "id": "oIcrlzJLkhDU"
      },
      "execution_count": null,
      "outputs": []
    },
    {
      "cell_type": "code",
      "source": [
        "#A class with one class attribute\n",
        "class Car:\n",
        "  #class arrtibutes\n",
        "  wheels=4\n",
        "  #initializer with instance attributes\n",
        "  def __init__(self, color, style):\n",
        "    self.color = color\n",
        "    self.style=style\n",
        "#create an object from the Car class by passing style and color\n",
        "C = Car('Sedan', 'Black')\n",
        "print(C.style)\n",
        "print(C.color)"
      ],
      "metadata": {
        "colab": {
          "base_uri": "https://localhost:8080/"
        },
        "id": "-_eGllO4KESa",
        "outputId": "713a000e-10b0-4485-f48a-07a5065b116e"
      },
      "execution_count": null,
      "outputs": [
        {
          "output_type": "stream",
          "name": "stdout",
          "text": [
            "Black\n",
            "Sedan\n"
          ]
        }
      ]
    },
    {
      "cell_type": "code",
      "source": [
        "#modify attributes\n",
        "C.style = 'SUV'\n",
        "print(C.style)"
      ],
      "metadata": {
        "colab": {
          "base_uri": "https://localhost:8080/"
        },
        "id": "kvFOjOizMA1D",
        "outputId": "f2c8e4ff-dbda-4d64-8205-53a021b6250e"
      },
      "execution_count": null,
      "outputs": [
        {
          "output_type": "stream",
          "name": "stdout",
          "text": [
            "SUV\n"
          ]
        }
      ]
    },
    {
      "cell_type": "code",
      "source": [
        ""
      ],
      "metadata": {
        "id": "_X6q8eBcNeY7"
      },
      "execution_count": null,
      "outputs": []
    }
  ]
}